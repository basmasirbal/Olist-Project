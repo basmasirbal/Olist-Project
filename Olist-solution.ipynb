{
 "cells": [
  {
   "cell_type": "markdown",
   "id": "d5dce17e",
   "metadata": {},
   "source": [
    "# Olist Project\n",
    "## Company Description\n",
    "Olist is a Brazilian ecommerce public dataset of orders made at Olist Store.\n",
    "\n",
    "The dataset has information of 100k orders from 2016 to 2018 made at multiple marketplaces in Brazil. Its features allows viewing an order from multiple dimensions: from order status, price, payment and freight performance to customer location, product attributes and finally reviews written by customers. We also released a geolocation dataset that relates Brazilian zip codes to lat/lng coordinates.\n",
    "\n",
    "Olist is a company that was created from the very beggining, trying to solve a problem from handmade artists in Curitiba.\n",
    "\n",
    "This notebook was made with the purpose of create a analytical solution about customer satisfaction."
   ]
  }
 ],
 "metadata": {
  "kernelspec": {
   "display_name": "Python 3 (ipykernel)",
   "language": "python",
   "name": "python3"
  },
  "language_info": {
   "codemirror_mode": {
    "name": "ipython",
    "version": 3
   },
   "file_extension": ".py",
   "mimetype": "text/x-python",
   "name": "python",
   "nbconvert_exporter": "python",
   "pygments_lexer": "ipython3",
   "version": "3.8.12"
  },
  "toc": {
   "base_numbering": 1,
   "nav_menu": {},
   "number_sections": true,
   "sideBar": true,
   "skip_h1_title": false,
   "title_cell": "Table of Contents",
   "title_sidebar": "Contents",
   "toc_cell": false,
   "toc_position": {},
   "toc_section_display": true,
   "toc_window_display": false
  }
 },
 "nbformat": 4,
 "nbformat_minor": 5
}
